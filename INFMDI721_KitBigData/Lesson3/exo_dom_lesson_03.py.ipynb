{
 "cells": [
  {
   "cell_type": "markdown",
   "metadata": {},
   "source": [
    "**Enoncé:**\n",
    "    \n",
    "- Récupérer via crawling la liste des 256 top contributors sur cette page https://gist.github.com/paulmillr/2657075 \n",
    "- En utilisant l'API github https://developer.github.com/v3/ récupérer pour chacun de ces users le nombre moyens de stars des repositories qui leur appartiennent. Pour finir classer ces 256 contributors par leur note moyenne.\n",
    "---------"
   ]
  },
  {
   "cell_type": "code",
   "execution_count": 6,
   "metadata": {},
   "outputs": [],
   "source": [
    "# coding: utf-8\n",
    "import requests\n",
    "import unittest\n",
    "from bs4 import BeautifulSoup\n",
    "import json"
   ]
  },
  {
   "cell_type": "code",
   "execution_count": 7,
   "metadata": {},
   "outputs": [],
   "source": [
    "def _handle_request_result_and_build_soup(request_result):\n",
    "    if request_result.status_code == 200:\n",
    "        html_doc =  request_result.text\n",
    "        soup = BeautifulSoup(html_doc,\"html.parser\")\n",
    "    return soup"
   ]
  },
  {
   "cell_type": "code",
   "execution_count": 8,
   "metadata": {},
   "outputs": [],
   "source": [
    "def get_top_contributors(url):\n",
    "    user_list = []\n",
    "    soup = _handle_request_result_and_build_soup(requests.get(url))\n",
    "    list = soup.find_all('tr')\n",
    "    for i in range(1, 256+1):\n",
    "        user_inf = list[i].text #get informations about user\n",
    "        user_name = user_inf.split(' ')[2] #get its name\n",
    "        user_list.append(user_name)\n",
    "    return user_list"
   ]
  },
  {
   "cell_type": "code",
   "execution_count": 9,
   "metadata": {},
   "outputs": [],
   "source": [
    "def get_average_nb_stars(user_list):\n",
    "    for user in user_list:\n",
    "        api_url = 'https://api.github.com/users/{}/repos?page=2&per_page=1'.format(user)\n",
    "        req = requests.get(api_url)\n",
    "        json_res = json.loads(req.text)\n",
    "    return json_res"
   ]
  },
  {
   "cell_type": "code",
   "execution_count": 12,
   "metadata": {},
   "outputs": [],
   "source": [
    "api_token = ''\n",
    "headers = {'Authorization': 'token {}'.format(api_token)}\n",
    "top_contributors_list = get_top_contributors('https://gist.github.com/paulmillr/2657075')\n",
    "#get_average_nb_stars(top_contributors_list)"
   ]
  }
 ],
 "metadata": {
  "kernelspec": {
   "display_name": "Python 3",
   "language": "python",
   "name": "python3"
  },
  "language_info": {
   "codemirror_mode": {
    "name": "ipython",
    "version": 3
   },
   "file_extension": ".py",
   "mimetype": "text/x-python",
   "name": "python",
   "nbconvert_exporter": "python",
   "pygments_lexer": "ipython3",
   "version": "3.6.4"
  }
 },
 "nbformat": 4,
 "nbformat_minor": 2
}
