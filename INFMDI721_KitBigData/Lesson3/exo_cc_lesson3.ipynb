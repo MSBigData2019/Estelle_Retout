{
 "cells": [
  {
   "cell_type": "markdown",
   "metadata": {},
   "source": [
    "**Enoncé:**\n",
    "\n",
    "Donner les distances entre les grandes villes de France.\n",
    "\n",
    "----------"
   ]
  },
  {
   "cell_type": "code",
   "execution_count": 9,
   "metadata": {},
   "outputs": [],
   "source": [
    "# coding: utf-8\n",
    "import requests\n",
    "import unittest\n",
    "import json\n",
    "import pandas as pd"
   ]
  },
  {
   "cell_type": "code",
   "execution_count": 4,
   "metadata": {},
   "outputs": [],
   "source": [
    "def get_distances(origin, destination):\n",
    "    api_url = 'https://fr.distance24.org/route.json?stops=' + origin + '|' + destination\n",
    "    req = requests.get(api_url)\n",
    "    json_req = json.loads(req.text)\n",
    "    return json_req['distance']"
   ]
  },
  {
   "cell_type": "code",
   "execution_count": 50,
   "metadata": {},
   "outputs": [],
   "source": [
    "cities = [Paris, Marseille, Lyon, Bordeaux, Nantes, Nice, Toulouse]\n",
    "df = pd.DataFrame(index=cities, columns=cities)\n",
    "for city1 in df.index:\n",
    "    for city2 in df.index:\n",
    "        df.loc[city1, city2] = get_distances(city1, city2)"
   ]
  },
  {
   "cell_type": "code",
   "execution_count": 51,
   "metadata": {},
   "outputs": [
    {
     "data": {
      "text/html": [
       "<div>\n",
       "<style scoped>\n",
       "    .dataframe tbody tr th:only-of-type {\n",
       "        vertical-align: middle;\n",
       "    }\n",
       "\n",
       "    .dataframe tbody tr th {\n",
       "        vertical-align: top;\n",
       "    }\n",
       "\n",
       "    .dataframe thead th {\n",
       "        text-align: right;\n",
       "    }\n",
       "</style>\n",
       "<table border=\"1\" class=\"dataframe\">\n",
       "  <thead>\n",
       "    <tr style=\"text-align: right;\">\n",
       "      <th></th>\n",
       "      <th>Paris</th>\n",
       "      <th>Marseille</th>\n",
       "      <th>Lyon</th>\n",
       "      <th>Bordeaux</th>\n",
       "      <th>Nantes</th>\n",
       "      <th>Nice</th>\n",
       "      <th>Toulouse</th>\n",
       "    </tr>\n",
       "  </thead>\n",
       "  <tbody>\n",
       "    <tr>\n",
       "      <th>Paris</th>\n",
       "      <td>0</td>\n",
       "      <td>661</td>\n",
       "      <td>392</td>\n",
       "      <td>500</td>\n",
       "      <td>343</td>\n",
       "      <td>688</td>\n",
       "      <td>589</td>\n",
       "    </tr>\n",
       "    <tr>\n",
       "      <th>Marseille</th>\n",
       "      <td>661</td>\n",
       "      <td>0</td>\n",
       "      <td>278</td>\n",
       "      <td>506</td>\n",
       "      <td>696</td>\n",
       "      <td>159</td>\n",
       "      <td>319</td>\n",
       "    </tr>\n",
       "    <tr>\n",
       "      <th>Lyon</th>\n",
       "      <td>392</td>\n",
       "      <td>278</td>\n",
       "      <td>0</td>\n",
       "      <td>436</td>\n",
       "      <td>516</td>\n",
       "      <td>300</td>\n",
       "      <td>360</td>\n",
       "    </tr>\n",
       "    <tr>\n",
       "      <th>Bordeaux</th>\n",
       "      <td>500</td>\n",
       "      <td>506</td>\n",
       "      <td>436</td>\n",
       "      <td>0</td>\n",
       "      <td>276</td>\n",
       "      <td>638</td>\n",
       "      <td>212</td>\n",
       "    </tr>\n",
       "    <tr>\n",
       "      <th>Nantes</th>\n",
       "      <td>343</td>\n",
       "      <td>696</td>\n",
       "      <td>516</td>\n",
       "      <td>276</td>\n",
       "      <td>0</td>\n",
       "      <td>792</td>\n",
       "      <td>466</td>\n",
       "    </tr>\n",
       "    <tr>\n",
       "      <th>Nice</th>\n",
       "      <td>688</td>\n",
       "      <td>159</td>\n",
       "      <td>300</td>\n",
       "      <td>638</td>\n",
       "      <td>792</td>\n",
       "      <td>0</td>\n",
       "      <td>469</td>\n",
       "    </tr>\n",
       "    <tr>\n",
       "      <th>Toulouse</th>\n",
       "      <td>589</td>\n",
       "      <td>319</td>\n",
       "      <td>360</td>\n",
       "      <td>212</td>\n",
       "      <td>466</td>\n",
       "      <td>469</td>\n",
       "      <td>0</td>\n",
       "    </tr>\n",
       "  </tbody>\n",
       "</table>\n",
       "</div>"
      ],
      "text/plain": [
       "           Paris  Marseille  Lyon  Bordeaux  Nantes  Nice  Toulouse\n",
       "Paris          0        661   392       500     343   688       589\n",
       "Marseille    661          0   278       506     696   159       319\n",
       "Lyon         392        278     0       436     516   300       360\n",
       "Bordeaux     500        506   436         0     276   638       212\n",
       "Nantes       343        696   516       276       0   792       466\n",
       "Nice         688        159   300       638     792     0       469\n",
       "Toulouse     589        319   360       212     466   469         0"
      ]
     },
     "execution_count": 51,
     "metadata": {},
     "output_type": "execute_result"
    }
   ],
   "source": [
    "df"
   ]
  }
 ],
 "metadata": {
  "kernelspec": {
   "display_name": "Python 3",
   "language": "python",
   "name": "python3"
  },
  "language_info": {
   "codemirror_mode": {
    "name": "ipython",
    "version": 3
   },
   "file_extension": ".py",
   "mimetype": "text/x-python",
   "name": "python",
   "nbconvert_exporter": "python",
   "pygments_lexer": "ipython3",
   "version": "3.6.4"
  }
 },
 "nbformat": 4,
 "nbformat_minor": 2
}
