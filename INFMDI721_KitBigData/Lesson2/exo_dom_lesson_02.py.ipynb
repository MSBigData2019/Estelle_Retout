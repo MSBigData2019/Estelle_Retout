{
 "cells": [
  {
   "cell_type": "markdown",
   "metadata": {},
   "source": [
    "**Enoncé:**\n",
    "\n",
    "On va s'interesser aux données entreprise disponible sur le site de Reuters.\n",
    "Besoin métier: Analyser les performances financières des sociétés cotées pour décider d'une stratégie d'investissement.\n",
    "\n",
    "Je vous demande donc de récupérer les infos suivantes :\n",
    "* les ventes au quartier à fin décembre 2018\n",
    "* le prix de l'action et son % de changement au moment du crawling\n",
    "* le % Shares Owned des investisseurs institutionels\n",
    "* le dividend yield de la company, le secteur et de l'industrie\n",
    "\n",
    "pour les sociétés suivantes : Aribus, LVMH et Danone.\n",
    "\n",
    "----------"
   ]
  },
  {
   "cell_type": "code",
   "execution_count": 7,
   "metadata": {},
   "outputs": [],
   "source": [
    "# coding: utf-8\n",
    "import requests\n",
    "import unittest\n",
    "from bs4 import BeautifulSoup"
   ]
  },
  {
   "cell_type": "markdown",
   "metadata": {},
   "source": [
    "### Récupérer la page"
   ]
  },
  {
   "cell_type": "code",
   "execution_count": 55,
   "metadata": {},
   "outputs": [],
   "source": [
    "def _handle_request_result_and_build_soup(request_result):\n",
    "    if request_result.status_code == 200:\n",
    "        html_doc =  request_result.text\n",
    "        soup = BeautifulSoup(html_doc,\"html.parser\")\n",
    "    return soup"
   ]
  },
  {
   "cell_type": "markdown",
   "metadata": {},
   "source": [
    "### Les ventes au quarter à fin décembre 2018"
   ]
  },
  {
   "cell_type": "code",
   "execution_count": 188,
   "metadata": {},
   "outputs": [],
   "source": [
    "def get_sales_quarter(soup):\n",
    "    return soup.find_all('td', attrs={'class': 'data'})[1].get_text()"
   ]
  },
  {
   "cell_type": "markdown",
   "metadata": {},
   "source": [
    "### Le prix de l'action et son % de changement au moment du crawling"
   ]
  },
  {
   "cell_type": "code",
   "execution_count": 236,
   "metadata": {},
   "outputs": [],
   "source": [
    "def get_share_price(soup):\n",
    "    section = soup.find('div', attrs={'class': 'sectionQuote nasdaqChange'})\n",
    "    share_price = section.find('span', attrs={'style': 'font-size: 23px;'}).get_text().strip()\n",
    "    return share_price"
   ]
  },
  {
   "cell_type": "code",
   "execution_count": 237,
   "metadata": {},
   "outputs": [],
   "source": [
    "def get_pct_chg(soup):\n",
    "    section = soup.find('div', attrs={'class': 'sectionQuote priceChange'})\n",
    "    pct_chg = section.find('span', attrs={'class': 'valueContentPercent'}).get_text()\n",
    "    return pct_chg"
   ]
  },
  {
   "cell_type": "markdown",
   "metadata": {},
   "source": [
    "### Shares Owned des investisseurs institutionels"
   ]
  },
  {
   "cell_type": "code",
   "execution_count": 308,
   "metadata": {},
   "outputs": [],
   "source": [
    "def get_shares_owned_inst_holders(soup):\n",
    "    section = soup.find('div', class_=\"column2 gridPanel grid4\")\n",
    "    module = section.find_all('div', class_={'module'})[3]\n",
    "    shares = module.find('td', class_='data').get_text()\n",
    "    return shares"
   ]
  },
  {
   "cell_type": "markdown",
   "metadata": {},
   "source": [
    "### Dividend yield de la compagnie, du secteur et de l'industrie"
   ]
  },
  {
   "cell_type": "code",
   "execution_count": 340,
   "metadata": {},
   "outputs": [],
   "source": [
    "def get_divs_yield(soup):\n",
    "    section = soup.find('div', class_=\"column1 gridPanel grid8\")\n",
    "    module = section.find_all('div', class_={'module'})[3]\n",
    "    div = module.find_all('td', class_='data')\n",
    "    div_company = div[0].get_text()\n",
    "    div_industry = div[1].get_text()\n",
    "    div_sector = div[2].get_text()\n",
    "    return div_company, div_industry, div_sector"
   ]
  },
  {
   "cell_type": "markdown",
   "metadata": {},
   "source": [
    "### Affichage du résultat"
   ]
  },
  {
   "cell_type": "code",
   "execution_count": 351,
   "metadata": {},
   "outputs": [],
   "source": [
    "import pandas as pd\n",
    "df = pd.DataFrame(index = companies, columns = ['Ventes',\n",
    "                                                \"Prix de l'action\",\n",
    "                                                \"% du changement de l'action\",\n",
    "                                                \"Shares Owned des investisseurs institutionels\",\n",
    "                                                \"Dividendes\"])\n",
    "def print_result(companies):\n",
    "    for c in companies:\n",
    "        res = requests.get(\"https://www.reuters.com/finance/stocks/financial-highlights/\" + c)\n",
    "        soup = _handle_request_result_and_build_soup(res)\n",
    "        sales_mean = get_sales_quarter(soup)\n",
    "        share_price = get_share_price(soup)\n",
    "        pct_chg = get_pct_chg(soup)\n",
    "        shares = get_shares_owned_inst_holders(soup)\n",
    "        dividends = get_divs_yield(soup)\n",
    "        df.loc[c] = pd.Series({'Ventes': sales_mean,\n",
    "                               \"Prix de l'action\": share_price,\n",
    "                               \"% du changement de l'action\": pct_chg,\n",
    "                               \"Shares Owned des investisseurs institutionels\": shares,\n",
    "                                \"Dividendes\": dividends})\n",
    "    return df"
   ]
  },
  {
   "cell_type": "code",
   "execution_count": 352,
   "metadata": {},
   "outputs": [
    {
     "data": {
      "text/html": [
       "<div>\n",
       "<style scoped>\n",
       "    .dataframe tbody tr th:only-of-type {\n",
       "        vertical-align: middle;\n",
       "    }\n",
       "\n",
       "    .dataframe tbody tr th {\n",
       "        vertical-align: top;\n",
       "    }\n",
       "\n",
       "    .dataframe thead th {\n",
       "        text-align: right;\n",
       "    }\n",
       "</style>\n",
       "<table border=\"1\" class=\"dataframe\">\n",
       "  <thead>\n",
       "    <tr style=\"text-align: right;\">\n",
       "      <th></th>\n",
       "      <th>Ventes</th>\n",
       "      <th>Prix de l'action</th>\n",
       "      <th>% du changement de l'action</th>\n",
       "      <th>Shares Owned des investisseurs institutionels</th>\n",
       "      <th>Dividendes</th>\n",
       "    </tr>\n",
       "  </thead>\n",
       "  <tbody>\n",
       "    <tr>\n",
       "      <th>AIR.PA</th>\n",
       "      <td>23,493.00</td>\n",
       "      <td>101.36</td>\n",
       "      <td>(-1.11%)</td>\n",
       "      <td>43.53%</td>\n",
       "      <td>(1.45, 1.34, 1.64)</td>\n",
       "    </tr>\n",
       "    <tr>\n",
       "      <th>DANO.PA</th>\n",
       "      <td>6,072.60</td>\n",
       "      <td>65.38</td>\n",
       "      <td>(-0.40%)</td>\n",
       "      <td>50.60%</td>\n",
       "      <td>(2.90, 2.78, 2.48)</td>\n",
       "    </tr>\n",
       "    <tr>\n",
       "      <th>LVMH.PA</th>\n",
       "      <td>13,667.70</td>\n",
       "      <td>269.00</td>\n",
       "      <td>(-5.85%)</td>\n",
       "      <td>20.57%</td>\n",
       "      <td>(1.92, 1.70, 2.60)</td>\n",
       "    </tr>\n",
       "  </tbody>\n",
       "</table>\n",
       "</div>"
      ],
      "text/plain": [
       "            Ventes Prix de l'action % du changement de l'action  \\\n",
       "AIR.PA   23,493.00           101.36                    (-1.11%)   \n",
       "DANO.PA   6,072.60            65.38                    (-0.40%)   \n",
       "LVMH.PA  13,667.70           269.00                    (-5.85%)   \n",
       "\n",
       "        Shares Owned des investisseurs institutionels          Dividendes  \n",
       "AIR.PA                                         43.53%  (1.45, 1.34, 1.64)  \n",
       "DANO.PA                                        50.60%  (2.90, 2.78, 2.48)  \n",
       "LVMH.PA                                        20.57%  (1.92, 1.70, 2.60)  "
      ]
     },
     "execution_count": 352,
     "metadata": {},
     "output_type": "execute_result"
    }
   ],
   "source": [
    "print_result(['AIR.PA', 'DANO.PA', 'LVMH.PA'])"
   ]
  }
 ],
 "metadata": {
  "kernelspec": {
   "display_name": "Python 3",
   "language": "python",
   "name": "python3"
  },
  "language_info": {
   "codemirror_mode": {
    "name": "ipython",
    "version": 3
   },
   "file_extension": ".py",
   "mimetype": "text/x-python",
   "name": "python",
   "nbconvert_exporter": "python",
   "pygments_lexer": "ipython3",
   "version": "3.6.4"
  }
 },
 "nbformat": 4,
 "nbformat_minor": 2
}
