{
 "cells": [
  {
   "cell_type": "markdown",
   "metadata": {},
   "source": [
    "**Enoncé:**\n",
    "\n",
    "Qui d'Acer ou Dell propose les meilleurs promotions sur Darty.fr ?\n",
    "\n",
    "---------"
   ]
  },
  {
   "cell_type": "code",
   "execution_count": 1,
   "metadata": {},
   "outputs": [],
   "source": [
    "# coding: utf-8\n",
    "import requests\n",
    "import unittest\n",
    "from bs4 import BeautifulSoup"
   ]
  },
  {
   "cell_type": "code",
   "execution_count": 5,
   "metadata": {},
   "outputs": [],
   "source": [
    "def get_pages(brand):\n",
    "    request_result = []\n",
    "    nb_pages = 20\n",
    "    for page in range(1, nb_pages):\n",
    "        if page == 1:\n",
    "            val = \"\"\n",
    "        else:\n",
    "            val = \"_\" + str(page)\n",
    "        res = requests.get(\"https://www.darty.com/nav/achat/informatique/ordinateur_portable/portable/marque\"\n",
    "                                                 + val + \"__\" + brand + \"__\" + brand.upper() + \".html\")\n",
    "        if res.status_code == 200:  \n",
    "            request_result.append(res)\n",
    "    return request_result"
   ]
  },
  {
   "cell_type": "code",
   "execution_count": 6,
   "metadata": {},
   "outputs": [],
   "source": [
    "def get_discounts(brand):\n",
    "    html_doc = get_pages(brand)\n",
    "    discount = []\n",
    "    for doc in html_doc:\n",
    "        soup = BeautifulSoup(doc.text, \"html.parser\")\n",
    "        discount += [span.get_text() for span in soup.find_all('span', class_='striped_price')]\n",
    "        discount_list = [disc.replace(\"- \", \"\").replace(\"%\", \"\") for disc in discount]\n",
    "        discount_list_int = list(map(int, discount_list))\n",
    "        discount_average = sum(discount_list_int)/len(discount_list_int)\n",
    "    return discount_average"
   ]
  },
  {
   "cell_type": "code",
   "execution_count": 4,
   "metadata": {},
   "outputs": [
    {
     "name": "stdout",
     "output_type": "stream",
     "text": [
      "Pourcentage moyen des promotions Acer sur Darty.fr: 21.09%\n",
      "Pourcentage moyen des promotions Dell sur Darty.fr: 24.73%\n"
     ]
    }
   ],
   "source": [
    "print(\"Pourcentage moyen des promotions Acer sur Darty.fr: {}%\".format(round(get_discounts('acer'),2)))\n",
    "print(\"Pourcentage moyen des promotions Dell sur Darty.fr: {}%\".format(round(get_discounts('dell'),2)))"
   ]
  }
 ],
 "metadata": {
  "kernelspec": {
   "display_name": "Python 3",
   "language": "python",
   "name": "python3"
  },
  "language_info": {
   "codemirror_mode": {
    "name": "ipython",
    "version": 3
   },
   "file_extension": ".py",
   "mimetype": "text/x-python",
   "name": "python",
   "nbconvert_exporter": "python",
   "pygments_lexer": "ipython3",
   "version": "3.6.4"
  }
 },
 "nbformat": 4,
 "nbformat_minor": 2
}
